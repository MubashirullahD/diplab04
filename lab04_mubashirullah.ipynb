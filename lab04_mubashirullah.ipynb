{
 "cells": [
  {
   "cell_type": "markdown",
   "metadata": {},
   "source": [
    "## Connected Component Labelling"
   ]
  },
  {
   "cell_type": "markdown",
   "metadata": {},
   "source": [
    "### Imports"
   ]
  },
  {
   "cell_type": "code",
   "execution_count": 1,
   "metadata": {},
   "outputs": [],
   "source": [
    "from PIL import Image\n",
    "import numpy as np\n",
    "import cv2"
   ]
  },
  {
   "cell_type": "markdown",
   "metadata": {},
   "source": [
    "### Get Image"
   ]
  },
  {
   "cell_type": "code",
   "execution_count": 2,
   "metadata": {},
   "outputs": [
    {
     "data": {
      "image/png": "[encoded data removed]",
      "text/plain": [
       "<PIL.Image.Image image mode=L size=508x331 at 0x4CCD190>"
      ]
     },
     "execution_count": 2,
     "metadata": {},
     "output_type": "execute_result"
    }
   ],
   "source": [
    "im = cv2.imread(\"fruits.png\", 2) #Also can be done with im = cv2.cvtColor(im, cv2.COLOR_BGR2GRAY)\n",
    "width, height = im.shape\n",
    "\n",
    "im[im < 128] = 0\n",
    "im[im > 128] = 255\n",
    "Image.fromarray(im, 'L')"
   ]
  },
  {
   "cell_type": "code",
   "execution_count": 3,
   "metadata": {
    "scrolled": false
   },
   "outputs": [
    {
     "data": {
      "text/plain": [
       "\" \\nimg = Image.open('fruits.png').convert('L')\\nwidth, height = img.size\\nimg = img.point(lambda i: 0 if i < 128 else 255)\\narray = np.array(img.getdata())\\narray = np.reshape(array, (width,height))\\ntest = Image.fromarray(array, 'L')\\n\""
      ]
     },
     "execution_count": 3,
     "metadata": {},
     "output_type": "execute_result"
    }
   ],
   "source": [
    "\"\"\" \n",
    "img = Image.open('fruits.png').convert('L')\n",
    "width, height = img.size\n",
    "img = img.point(lambda i: 0 if i < 128 else 255)\n",
    "array = np.array(img.getdata())\n",
    "array = np.reshape(array, (width,height))\n",
    "test = Image.fromarray(array, 'L')\n",
    "\"\"\""
   ]
  },
  {
   "cell_type": "markdown",
   "metadata": {},
   "source": [
    "### Dict to keep values for preference"
   ]
  },
  {
   "cell_type": "code",
   "execution_count": 4,
   "metadata": {},
   "outputs": [],
   "source": [
    "pref   = dict()\n",
    "matrix = np.ones((width,height), np.uint8) * 255 # Suspicion on data type causing unwanted behaviour when scaling\n",
    "array  = im\n",
    "label  = 1"
   ]
  },
  {
   "cell_type": "code",
   "execution_count": 5,
   "metadata": {},
   "outputs": [],
   "source": [
    "for y in range(height):\n",
    "    for x in range(width):\n",
    "        if array[x][y] == 255:\n",
    "            # Assign True for code logic\n",
    "            matrix[x][y] = True\n",
    "            continue\n",
    "        left  = matrix[x-1][y] if (x-1) > 0 else True\n",
    "        up    = matrix[x][y-1] if (y-1) > 0 else True\n",
    "        \n",
    "        # Possibility 1: Left and Up don't exist\n",
    "        if left and up:\n",
    "            matrix[x][y] = label\n",
    "            label += 1\n",
    "            continue\n",
    "            \n",
    "        # Possibility 2: Up does not exist but Left does\n",
    "        elif up:\n",
    "            if type(left) == type(True): \n",
    "                matrix[x][y] = label\n",
    "                label        += 1\n",
    "                continue\n",
    "            else:\n",
    "                matrix[x][y] = left\n",
    "                continue\n",
    "                \n",
    "        # Possibility 3: Left does not exist but Up does        \n",
    "        elif left:\n",
    "            if type(up) == type(True):\n",
    "                matrix[x][y] = label\n",
    "                label       += 1\n",
    "                continue\n",
    "            else:\n",
    "                matrix[x][y] = up\n",
    "                continue\n",
    "                \n",
    "        # Possibility 4: Both Up and Left exist\n",
    "        else:\n",
    "            if left < up:\n",
    "                matrix[x][y] = left\n",
    "                pref[up]     = left\n",
    "            else:\n",
    "                matrix[x][y] = up\n",
    "                pref[left]   = up"
   ]
  },
  {
   "cell_type": "markdown",
   "metadata": {},
   "source": [
    "### Before removing redundunt blocks, we could also update the dictionary preferences to point to their ultimate destination. Consider the case when 2 points to 1 and 5 points to 2. We would clean the dictionary to have 5 point to 1 directly."
   ]
  },
  {
   "cell_type": "code",
   "execution_count": 6,
   "metadata": {},
   "outputs": [],
   "source": [
    "# Optional objective for further improvement."
   ]
  },
  {
   "cell_type": "markdown",
   "metadata": {},
   "source": [
    "### Removing redundent blocks"
   ]
  },
  {
   "cell_type": "code",
   "execution_count": 7,
   "metadata": {},
   "outputs": [],
   "source": [
    "for y in range(height):\n",
    "    for x in range(width):\n",
    "        possiblekey  = matrix[x][y]\n",
    "        if possiblekey == True:\n",
    "            possiblekey = 255 # White pixels. We are assuming labels never go upto 255. We will have problems if that were the case\n",
    "        matrix[x][y] = possiblekey if possiblekey not in pref.keys() else pref[possiblekey]"
   ]
  },
  {
   "cell_type": "code",
   "execution_count": 8,
   "metadata": {},
   "outputs": [
    {
     "data": {
      "text/plain": [
       "array([[255, 255, 255, ..., 255, 255, 255],\n",
       "       [255, 255, 255, ..., 255, 255, 255],\n",
       "       [255, 255, 255, ..., 255, 255, 255],\n",
       "       ...,\n",
       "       [255, 255, 255, ..., 255, 255, 255],\n",
       "       [255, 255, 255, ..., 255, 255, 255],\n",
       "       [255, 255, 255, ..., 255, 255, 255]], dtype=uint8)"
      ]
     },
     "execution_count": 8,
     "metadata": {},
     "output_type": "execute_result"
    }
   ],
   "source": [
    "#matrix = (matrix * 25) % 256 My idea was to\n",
    "matrix"
   ]
  },
  {
   "cell_type": "code",
   "execution_count": 9,
   "metadata": {},
   "outputs": [],
   "source": [
    "#matrix = np.reshape(matrix, (width*height,))\n",
    "#listify_nparray = np.array(matrix).tolist()\n",
    "#cc = Image.new(\"L\", img.size)\n",
    "#cc.putdata(listify_nparray)\n",
    "#cc"
   ]
  },
  {
   "cell_type": "code",
   "execution_count": 10,
   "metadata": {},
   "outputs": [
    {
     "data": {
      "image/png": "[encoded data removed]",
      "text/plain": [
       "<PIL.Image.Image image mode=L size=508x331 at 0x52A0670>"
      ]
     },
     "execution_count": 10,
     "metadata": {},
     "output_type": "execute_result"
    }
   ],
   "source": [
    "newimg = Image.fromarray(matrix, 'L')\n",
    "newimg"
   ]
  },
  {
   "cell_type": "code",
   "execution_count": null,
   "metadata": {},
   "outputs": [],
   "source": []
  },
  {
   "cell_type": "code",
   "execution_count": null,
   "metadata": {},
   "outputs": [],
   "source": []
  }
 ],
 "metadata": {
  "kernelspec": {
   "display_name": "Python 2",
   "language": "python",
   "name": "python2"
  },
  "language_info": {
   "codemirror_mode": {
    "name": "ipython",
    "version": 2
   },
   "file_extension": ".py",
   "mimetype": "text/x-python",
   "name": "python",
   "nbconvert_exporter": "python",
   "pygments_lexer": "ipython2",
   "version": "2.7.15"
  }
 },
 "nbformat": 4,
 "nbformat_minor": 2
}
